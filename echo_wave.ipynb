{
 "cells": [
  {
   "cell_type": "code",
   "execution_count": 1,
   "metadata": {},
   "outputs": [],
   "source": [
    "import numpy as np\n",
    "import wave\n",
    "import struct\n",
    "import scipy.signal as signal"
   ]
  },
  {
   "cell_type": "code",
   "execution_count": 2,
   "metadata": {},
   "outputs": [],
   "source": [
    "file = \"sinusoid_echo.wav\"  # 檔案名稱\n",
    "\n",
    "amplitude = 20000           # 振幅\n",
    "frequency = 200             # 頻率(Hz)\n",
    "duration = 5                # 時間長度(秒)\n",
    "fs = 44100                  # 取樣頻率(Hz)\n",
    "num_samples = duration * fs   # 樣本數"
   ]
  },
  {
   "cell_type": "code",
   "execution_count": 3,
   "metadata": {},
   "outputs": [],
   "source": [
    "num_channels = 1            # 通道數\n",
    "sampwidth = 2               # 樣本寬度\n",
    "num_frames = num_samples    # 音框數 = 樣本數\n",
    "comptype = \"NONE\"           # 壓縮型態\n",
    "compname = \"not compressed\" # 無壓縮"
   ]
  },
  {
   "cell_type": "code",
   "execution_count": 4,
   "metadata": {},
   "outputs": [],
   "source": [
    "t = np.linspace( 0, 1, fs, endpoint = False )\n",
    "x = np.exp( -t ) * amplitude * np.sin( 2 * np.pi * frequency * t )\n",
    "x = np.pad( x, ( 0, 4 * fs ), 'constant' )\n",
    "\n",
    "b = np.array( [ 1 ] )\n",
    "a = np.zeros( duration * fs )"
   ]
  },
  {
   "cell_type": "code",
   "execution_count": 5,
   "metadata": {},
   "outputs": [],
   "source": [
    "num_echos = 5\n",
    "for i in range( num_echos ):\n",
    "\ta[ int( i * fs * 5 / num_echos ) ] = 1 - i / num_echos\n",
    "\n",
    "y = signal.lfilter( x, b, a )\n",
    "y = np.clip( y, -30000, 30000 )\n"
   ]
  },
  {
   "cell_type": "code",
   "execution_count": 6,
   "metadata": {},
   "outputs": [],
   "source": [
    "wav_file = wave.open( file, 'w' )\n",
    "wav_file.setparams(( num_channels, sampwidth, fs, num_frames, comptype, compname )) \n",
    "\n",
    "for s in y :\n",
    "   wav_file.writeframes( struct.pack( 'h', int ( s ) ) )\n",
    "\n",
    "wav_file.close( ) "
   ]
  },
  {
   "cell_type": "code",
   "execution_count": null,
   "metadata": {},
   "outputs": [],
   "source": []
  }
 ],
 "metadata": {
  "kernelspec": {
   "display_name": "Python 3",
   "language": "python",
   "name": "python3"
  },
  "language_info": {
   "codemirror_mode": {
    "name": "ipython",
    "version": 3
   },
   "file_extension": ".py",
   "mimetype": "text/x-python",
   "name": "python",
   "nbconvert_exporter": "python",
   "pygments_lexer": "ipython3",
   "version": "3.7.6"
  }
 },
 "nbformat": 4,
 "nbformat_minor": 2
}

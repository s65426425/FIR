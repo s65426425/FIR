{
 "cells": [
  {
   "cell_type": "code",
   "execution_count": 1,
   "metadata": {},
   "outputs": [],
   "source": [
    "import numpy as np\n",
    "import scipy.signal as signal\n",
    "import matplotlib.pyplot as plt"
   ]
  },
  {
   "cell_type": "code",
   "execution_count": 2,
   "metadata": {},
   "outputs": [
    {
     "name": "stdout",
     "output_type": "stream",
     "text": [
      "x = [1 0 0 0 0 0 0 0 0 0]\n",
      "y = [1.         0.8        0.64       0.512      0.4096     0.32768\n",
      " 0.262144   0.2097152  0.16777216 0.13421773]\n"
     ]
    }
   ],
   "source": [
    "n = np.array( [ 0, 1, 2, 3, 4, 5, 6, 7, 8, 9 ] )\n",
    "x = np.array( [ 1, 0, 0, 0, 0, 0, 0, 0, 0, 0 ] )\n",
    "\n",
    "b = np.array( [ 1 ] )\n",
    "a = np.array( [ 1, -0.8 ] )\n",
    "y = signal.lfilter( b, a, x )\n",
    "\n",
    "print( \"x =\", x )\n",
    "print( \"y =\", y )"
   ]
  },
  {
   "cell_type": "code",
   "execution_count": 3,
   "metadata": {},
   "outputs": [
    {
     "data": {
      "image/png": "[encoded data removed]",
      "text/plain": [
       "<Figure size 432x288 with 1 Axes>"
      ]
     },
     "metadata": {
      "needs_background": "light"
     },
     "output_type": "display_data"
    },
    {
     "data": {
      "image/png": "[encoded data removed]",
      "text/plain": [
       "<Figure size 432x288 with 1 Axes>"
      ]
     },
     "metadata": {
      "needs_background": "light"
     },
     "output_type": "display_data"
    }
   ],
   "source": [
    "plt.figure( 1 )\n",
    "plt.stem( n, x )\n",
    "plt.xlabel( 'n' )\n",
    "plt.ylabel( 'x[n]' )\n",
    "\n",
    "plt.figure( 2 )\n",
    "plt.stem( n, y )\n",
    "plt.xlabel( 'n' )\n",
    "plt.ylabel( 'y[n]' )\n",
    "\n",
    "plt.show( )"
   ]
  }
 ],
 "metadata": {
  "kernelspec": {
   "display_name": "Python 3",
   "language": "python",
   "name": "python3"
  },
  "language_info": {
   "codemirror_mode": {
    "name": "ipython",
    "version": 3
   },
   "file_extension": ".py",
   "mimetype": "text/x-python",
   "name": "python",
   "nbconvert_exporter": "python",
   "pygments_lexer": "ipython3",
   "version": "3.7.6"
  }
 },
 "nbformat": 4,
 "nbformat_minor": 2
}
